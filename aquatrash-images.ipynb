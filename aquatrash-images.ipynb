{
 "cells": [
  {
   "cell_type": "code",
   "execution_count": null,
   "metadata": {
    "_cell_guid": "b1076dfc-b9ad-4769-8c92-a6c4dae69d19",
    "_kg_hide-input": true,
    "_kg_hide-output": true,
    "_uuid": "8f2839f25d086af736a60e9eeb907d3b93b6e0e5",
    "execution": {
     "iopub.execute_input": "2022-09-28T00:37:52.158313Z",
     "iopub.status.busy": "2022-09-28T00:37:52.157799Z",
     "iopub.status.idle": "2022-09-28T00:37:53.740517Z",
     "shell.execute_reply": "2022-09-28T00:37:53.739368Z",
     "shell.execute_reply.started": "2022-09-28T00:37:52.158212Z"
    },
    "jupyter": {
     "outputs_hidden": true
    }
   },
   "outputs": [],
   "source": [
    "# This Python 3 environment comes with many helpful analytics libraries installed\n",
    "# It is defined by the kaggle/python Docker image: https://github.com/kaggle/docker-python\n",
    "# For example, here's several helpful packages to load\n",
    "\n",
    "import numpy as np # linear algebra\n",
    "import pandas as pd # data processing, CSV file I/O (e.g. pd.read_csv)\n",
    "import seaborn as sns\n",
    "import cv2\n",
    "import os\n",
    "import matplotlib.pyplot as plt\n",
    "\n",
    "import warnings\n",
    "warnings.simplefilter(action='ignore', category=Warning)\n",
    "\n",
    "# Input data files are available in the read-only \"../input/\" directory\n",
    "# For example, running this (by clicking run or pressing Shift+Enter) will list all files under the input directory\n",
    "\n",
    "import os\n",
    "for dirname, _, filenames in os.walk('/kaggle/input'):\n",
    "    for filename in filenames:\n",
    "        print(os.path.join(dirname, filename))\n",
    "\n",
    "# You can write up to 20GB to the current directory (/kaggle/working/) that gets preserved as output when you create a version using \"Save & Run All\" \n",
    "# You can also write temporary files to /kaggle/temp/, but they won't be saved outside of the current session"
   ]
  },
  {
   "cell_type": "markdown",
   "metadata": {},
   "source": [
    "https://www.kaggle.com/code/aathikm/coffebean-multi-label-classification"
   ]
  },
  {
   "cell_type": "code",
   "execution_count": null,
   "metadata": {
    "execution": {
     "iopub.execute_input": "2022-09-28T00:47:35.797545Z",
     "iopub.status.busy": "2022-09-28T00:47:35.797135Z",
     "iopub.status.idle": "2022-09-28T00:47:35.815621Z",
     "shell.execute_reply": "2022-09-28T00:47:35.814716Z",
     "shell.execute_reply.started": "2022-09-28T00:47:35.797515Z"
    }
   },
   "outputs": [],
   "source": [
    "#Code by Nghi Huynh https://www.kaggle.com/code/nghihuynh/quick-eda-it-s-corn-season\n",
    "\n",
    "TRAIN_PATH = 'C:/archive/annotations.csv'\n",
    "#TEST_PATH = '../input/kaggle-pog-series-s01e03/corn/test.csv'\n",
    "train_df = pd.read_csv(TRAIN_PATH).set_index('y_max')\n",
    "#test_df = pd.read_csv(TEST_PATH).set_index('seed_id')"
   ]
  },
  {
   "cell_type": "code",
   "execution_count": null,
   "metadata": {
    "execution": {
     "iopub.execute_input": "2022-09-28T00:47:40.589611Z",
     "iopub.status.busy": "2022-09-28T00:47:40.588386Z",
     "iopub.status.idle": "2022-09-28T00:47:40.603269Z",
     "shell.execute_reply": "2022-09-28T00:47:40.601943Z",
     "shell.execute_reply.started": "2022-09-28T00:47:40.589549Z"
    }
   },
   "outputs": [],
   "source": [
    "train_df.head()"
   ]
  },
  {
   "cell_type": "code",
   "execution_count": null,
   "metadata": {
    "execution": {
     "iopub.execute_input": "2022-09-28T00:52:43.541115Z",
     "iopub.status.busy": "2022-09-28T00:52:43.540704Z",
     "iopub.status.idle": "2022-09-28T00:52:43.553922Z",
     "shell.execute_reply": "2022-09-28T00:52:43.552846Z",
     "shell.execute_reply.started": "2022-09-28T00:52:43.541082Z"
    }
   },
   "outputs": [],
   "source": [
    "train_df[\"class_name\"].value_counts()"
   ]
  },
  {
   "cell_type": "code",
   "execution_count": null,
   "metadata": {
    "execution": {
     "iopub.execute_input": "2022-09-28T00:50:41.819785Z",
     "iopub.status.busy": "2022-09-28T00:50:41.819370Z",
     "iopub.status.idle": "2022-09-28T00:50:41.830958Z",
     "shell.execute_reply": "2022-09-28T00:50:41.829433Z",
     "shell.execute_reply.started": "2022-09-28T00:50:41.819753Z"
    }
   },
   "outputs": [],
   "source": [
    "#Code by Nghi Huynh https://www.kaggle.com/code/nghihuynh/quick-eda-it-s-corn-season\n",
    "\n",
    "def visualize_trash(df, category):\n",
    "    PATH = 'C:/archive/Images'\n",
    "    imgs = []\n",
    "    ids = []\n",
    "    x_min = []\n",
    "    count = 0\n",
    "    \n",
    "    for i, row in train_df.iterrows():\n",
    "        if count == 15: break\n",
    "        if row['class_name'] == category:\n",
    "            imgs.append(row['image_name'])\n",
    "            ids.append(i)\n",
    "            x_min.append(row['x_min'])\n",
    "            count += 1\n",
    "    sns.set_style('white')\n",
    "    n_rows = 3\n",
    "    n_cols = 5\n",
    "    fig, axs = plt.subplots(n_rows, n_cols, figsize=(15,10), constrained_layout=True)\n",
    "    fig.suptitle(f'Category: {category}', weight=\"bold\", size=16)\n",
    "    for i in range(3):\n",
    "        for j in range(5):\n",
    "            img = cv2.imread(os.path.join(PATH, imgs[i*n_cols+j]))\n",
    "            img = cv2.cvtColor(img, cv2.COLOR_RGB2BGR) \n",
    "            axs[i][j].imshow(img)\n",
    "            axs[i][j].set_title(f'Image Name : {ids[i*n_cols+j]}\\n x_min: {x_min[i*n_cols+j]}')\n",
    "    plt.show()"
   ]
  },
  {
   "cell_type": "code",
   "execution_count": null,
   "metadata": {
    "_kg_hide-input": true,
    "execution": {
     "iopub.execute_input": "2022-09-28T00:50:47.099584Z",
     "iopub.status.busy": "2022-09-28T00:50:47.099198Z",
     "iopub.status.idle": "2022-09-28T00:50:54.278278Z",
     "shell.execute_reply": "2022-09-28T00:50:54.277079Z",
     "shell.execute_reply.started": "2022-09-28T00:50:47.099553Z"
    }
   },
   "outputs": [],
   "source": [
    "#Code by Nghi Huynh https://www.kaggle.com/code/nghihuynh/quick-eda-it-s-corn-season\n",
    "\n",
    "visualize_trash(train_df, 'plastic')"
   ]
  },
  {
   "cell_type": "code",
   "execution_count": null,
   "metadata": {
    "_kg_hide-input": true,
    "execution": {
     "iopub.execute_input": "2022-09-28T00:52:52.267275Z",
     "iopub.status.busy": "2022-09-28T00:52:52.266836Z",
     "iopub.status.idle": "2022-09-28T00:52:59.872202Z",
     "shell.execute_reply": "2022-09-28T00:52:59.870983Z",
     "shell.execute_reply.started": "2022-09-28T00:52:52.267238Z"
    }
   },
   "outputs": [],
   "source": [
    "visualize_trash(train_df, 'metal')"
   ]
  },
  {
   "cell_type": "code",
   "execution_count": null,
   "metadata": {
    "_kg_hide-input": true,
    "execution": {
     "iopub.execute_input": "2022-09-28T00:53:24.241675Z",
     "iopub.status.busy": "2022-09-28T00:53:24.241222Z",
     "iopub.status.idle": "2022-09-28T00:53:31.933419Z",
     "shell.execute_reply": "2022-09-28T00:53:31.931956Z",
     "shell.execute_reply.started": "2022-09-28T00:53:24.241641Z"
    }
   },
   "outputs": [],
   "source": [
    "visualize_trash(train_df, 'paper')"
   ]
  },
  {
   "cell_type": "code",
   "execution_count": null,
   "metadata": {
    "_kg_hide-input": true,
    "execution": {
     "iopub.execute_input": "2022-09-28T00:53:42.434240Z",
     "iopub.status.busy": "2022-09-28T00:53:42.433725Z",
     "iopub.status.idle": "2022-09-28T00:53:50.710532Z",
     "shell.execute_reply": "2022-09-28T00:53:50.709293Z",
     "shell.execute_reply.started": "2022-09-28T00:53:42.434199Z"
    }
   },
   "outputs": [],
   "source": [
    "visualize_trash(train_df, 'glass')"
   ]
  },
  {
   "cell_type": "markdown",
   "metadata": {},
   "source": [
    "#Another Way"
   ]
  },
  {
   "cell_type": "code",
   "execution_count": null,
   "metadata": {
    "_kg_hide-output": true,
    "execution": {
     "iopub.execute_input": "2022-09-28T00:54:17.319189Z",
     "iopub.status.busy": "2022-09-28T00:54:17.318743Z",
     "iopub.status.idle": "2022-09-28T00:54:31.461143Z",
     "shell.execute_reply": "2022-09-28T00:54:31.459676Z",
     "shell.execute_reply.started": "2022-09-28T00:54:17.319152Z"
    }
   },
   "outputs": [],
   "source": [
    "! pip install -Uqq timm"
   ]
  },
  {
   "cell_type": "code",
   "execution_count": null,
   "metadata": {
    "execution": {
     "iopub.execute_input": "2022-09-28T00:54:50.673557Z",
     "iopub.status.busy": "2022-09-28T00:54:50.672949Z",
     "iopub.status.idle": "2022-09-28T00:54:54.577478Z",
     "shell.execute_reply": "2022-09-28T00:54:54.576207Z",
     "shell.execute_reply.started": "2022-09-28T00:54:50.673501Z"
    }
   },
   "outputs": [],
   "source": [
    "#Code by Apsal S Kalathukunnel https://www.kaggle.com/code/apzlll/corn-fastai-baseline/notebook\n",
    "\n",
    "import numpy as np # linear algebra\n",
    "import pandas as pd \n",
    "\n",
    "import timm\n",
    "from pathlib import Path\n",
    "from fastai.vision.all import *\n",
    "from fastai.vision.all import vision_learner, get_image_files"
   ]
  },
  {
   "cell_type": "code",
   "execution_count": null,
   "metadata": {
    "execution": {
     "iopub.execute_input": "2022-09-28T01:23:45.504319Z",
     "iopub.status.busy": "2022-09-28T01:23:45.503791Z",
     "iopub.status.idle": "2022-09-28T01:23:46.624005Z",
     "shell.execute_reply": "2022-09-28T01:23:46.622361Z",
     "shell.execute_reply.started": "2022-09-28T01:23:45.504277Z"
    }
   },
   "outputs": [],
   "source": [
    "!ls ../input/aquatrash"
   ]
  },
  {
   "cell_type": "markdown",
   "metadata": {},
   "source": [
    "#File name 0 (1st jpg/image file)"
   ]
  },
  {
   "cell_type": "code",
   "execution_count": null,
   "metadata": {
    "execution": {
     "iopub.execute_input": "2022-09-28T01:33:50.526577Z",
     "iopub.status.busy": "2022-09-28T01:33:50.524665Z",
     "iopub.status.idle": "2022-09-28T01:33:50.539771Z",
     "shell.execute_reply": "2022-09-28T01:33:50.538050Z",
     "shell.execute_reply.started": "2022-09-28T01:33:50.526516Z"
    }
   },
   "outputs": [],
   "source": [
    "#Code by Apsal S Kalathukunnel https://www.kaggle.com/code/apzlll/corn-fastai-baseline/notebook\n",
    "\n",
    "path = Path('../input/aquatrash')\n",
    "fname = (path/\"Images\").ls()\n",
    "print(fname[0])"
   ]
  },
  {
   "cell_type": "code",
   "execution_count": null,
   "metadata": {
    "execution": {
     "iopub.execute_input": "2022-09-28T01:36:12.044870Z",
     "iopub.status.busy": "2022-09-28T01:36:12.044295Z",
     "iopub.status.idle": "2022-09-28T01:36:12.057803Z",
     "shell.execute_reply": "2022-09-28T01:36:12.056511Z",
     "shell.execute_reply.started": "2022-09-28T01:36:12.044824Z"
    }
   },
   "outputs": [],
   "source": [
    "#Code by Apsal S Kalathukunnel https://www.kaggle.com/code/apzlll/corn-fastai-baseline/notebook\n",
    "\n",
    "train_df = pd.read_csv(path/\"annotations.csv\")\n",
    "#test_df = pd.read_csv(path/\"test.csv\")"
   ]
  },
  {
   "cell_type": "code",
   "execution_count": null,
   "metadata": {
    "_kg_hide-output": true,
    "execution": {
     "iopub.execute_input": "2022-09-28T01:36:55.435099Z",
     "iopub.status.busy": "2022-09-28T01:36:55.434529Z",
     "iopub.status.idle": "2022-09-28T01:36:55.512962Z",
     "shell.execute_reply": "2022-09-28T01:36:55.511231Z",
     "shell.execute_reply.started": "2022-09-28T01:36:55.435052Z"
    }
   },
   "outputs": [],
   "source": [
    "#Code by Apsal S Kalathukunnel https://www.kaggle.com/code/apzlll/corn-fastai-baseline/notebook\n",
    "\n",
    "dls = ImageDataLoaders.from_df(train_df,\n",
    "                               path=path,\n",
    "                               seed=34,\n",
    "                               label_col=3,\n",
    "                               fn_col=2,\n",
    "                               item_tfms=[Resize(224)],\n",
    "                               batch_tfms = aug_transforms(size = 224, min_scale = 0.75)\n",
    "                              )\n",
    "dls.show_batch()"
   ]
  },
  {
   "cell_type": "code",
   "execution_count": null,
   "metadata": {
    "_kg_hide-output": true,
    "execution": {
     "iopub.execute_input": "2022-09-28T01:39:02.016359Z",
     "iopub.status.busy": "2022-09-28T01:39:02.015667Z",
     "iopub.status.idle": "2022-09-28T01:39:02.045710Z",
     "shell.execute_reply": "2022-09-28T01:39:02.044019Z",
     "shell.execute_reply.started": "2022-09-28T01:39:02.016304Z"
    }
   },
   "outputs": [],
   "source": [
    "dls.show_batch(unique=True)"
   ]
  },
  {
   "cell_type": "markdown",
   "metadata": {},
   "source": [
    "#I don't know how to fix the line above. Any Clue?"
   ]
  },
  {
   "cell_type": "markdown",
   "metadata": {},
   "source": [
    "#Acknowldgements:\n",
    "\n",
    "Nghi Huynh https://www.kaggle.com/code/nghihuynh/quick-eda-it-s-corn-season\n",
    "\n",
    "Apsal S Kalathukunnel https://www.kaggle.com/code/apzlll/corn-fastai-baseline/notebook"
   ]
  },
  {
   "cell_type": "code",
   "execution_count": null,
   "metadata": {},
   "outputs": [],
   "source": []
  }
 ],
 "metadata": {
  "interpreter": {
   "hash": "310d9a66ed76e06b9b5ff4a7b69bb7b98ddeabee558dbf9e4909bba73a865ddf"
  },
  "kernelspec": {
   "display_name": "Python 3 (ipykernel)",
   "language": "python",
   "name": "python3"
  },
  "language_info": {
   "codemirror_mode": {
    "name": "ipython",
    "version": 3
   },
   "file_extension": ".py",
   "mimetype": "text/x-python",
   "name": "python",
   "nbconvert_exporter": "python",
   "pygments_lexer": "ipython3",
   "version": "3.9.13"
  }
 },
 "nbformat": 4,
 "nbformat_minor": 4
}
